{
  "nbformat": 4,
  "nbformat_minor": 0,
  "metadata": {
    "colab": {
      "provenance": [],
      "authorship_tag": "ABX9TyMgXK3FLoOgN9Ax3pDWXlbj",
      "include_colab_link": true
    },
    "kernelspec": {
      "name": "python3",
      "display_name": "Python 3"
    },
    "language_info": {
      "name": "python"
    }
  },
  "cells": [
    {
      "cell_type": "markdown",
      "metadata": {
        "id": "view-in-github",
        "colab_type": "text"
      },
      "source": [
        "<a href=\"https://colab.research.google.com/github/hemapriya0210/python-projects/blob/main/python_imp_concepts.ipynb\" target=\"_parent\"><img src=\"https://colab.research.google.com/assets/colab-badge.svg\" alt=\"Open In Colab\"/></a>"
      ]
    },
    {
      "cell_type": "markdown",
      "source": [
        "i/p and o/p methods"
      ],
      "metadata": {
        "id": "ZN2FgjnwKk4h"
      }
    },
    {
      "cell_type": "code",
      "execution_count": null,
      "metadata": {
        "id": "sreviAjF3tc_",
        "colab": {
          "base_uri": "https://localhost:8080/"
        },
        "outputId": "2f874534-f6e8-4b70-9133-d2e361470323"
      },
      "outputs": [
        {
          "output_type": "stream",
          "name": "stdout",
          "text": [
            "['False', 'None', 'True', 'and', 'as', 'assert', 'async', 'await', 'break', 'class', 'continue', 'def', 'del', 'elif', 'else', 'except', 'finally', 'for', 'from', 'global', 'if', 'import', 'in', 'is', 'lambda', 'nonlocal', 'not', 'or', 'pass', 'raise', 'return', 'try', 'while', 'with', 'yield']\n"
          ]
        }
      ],
      "source": [
        "import keyword\n",
        "print(keyword.kwlist)\n"
      ]
    },
    {
      "cell_type": "code",
      "source": [
        "#input statement\n",
        "#name=input()\n",
        "#print(name)\n",
        "#print(type(name))\n",
        "age=int(input(\"enter your age :\"))\n",
        "print(age)\n",
        "print(type(age))\n",
        "num=float(input(\"enter your number :\"))\n",
        "print(type(num))"
      ],
      "metadata": {
        "id": "Tkz17qhvMV0D"
      },
      "execution_count": null,
      "outputs": []
    },
    {
      "cell_type": "code",
      "source": [
        "a,b,c=input(\"enter 3 name : \").split()\n",
        "print(\"\",a)\n",
        "print(\"\",b)\n",
        "print(\"\",c)\n"
      ],
      "metadata": {
        "colab": {
          "base_uri": "https://localhost:8080/"
        },
        "id": "shwoRyK3OQf-",
        "outputId": "67e42509-9335-4513-d333-cdf97d4201b6"
      },
      "execution_count": null,
      "outputs": [
        {
          "output_type": "stream",
          "name": "stdout",
          "text": [
            "enter 3 nameh e m\n",
            " h\n",
            " e\n",
            " m\n"
          ]
        }
      ]
    },
    {
      "cell_type": "markdown",
      "source": [
        "comment line"
      ],
      "metadata": {
        "id": "31MaJcumREh2"
      }
    },
    {
      "cell_type": "code",
      "source": [
        "''' multi line\n",
        "print(age)\n",
        "print(type(age))\n",
        "num=float(input(\"enter your number :\"))\n",
        "print(type(num))\n",
        "'''\n",
        "#num=float(input(\"enter your number :\")) single line\n",
        "print(type(num))"
      ],
      "metadata": {
        "colab": {
          "base_uri": "https://localhost:8080/"
        },
        "id": "MfCY7h0RREF4",
        "outputId": "67249322-c3e6-4f62-ba7c-5c284662dd44"
      },
      "execution_count": null,
      "outputs": [
        {
          "output_type": "stream",
          "name": "stdout",
          "text": [
            "enter your number :20\n",
            "<class 'float'>\n"
          ]
        }
      ]
    },
    {
      "cell_type": "code",
      "source": [
        "#used in the python 2x for getting user input\n",
        "g = raw_input(\"Enter your name : \")\n",
        "print(g)"
      ],
      "metadata": {
        "colab": {
          "base_uri": "https://localhost:8080/",
          "height": 159
        },
        "id": "p2dTJYiqbqjY",
        "outputId": "457f1c7b-130e-4870-b4fb-06d88d94ce20"
      },
      "execution_count": null,
      "outputs": [
        {
          "output_type": "error",
          "ename": "NameError",
          "evalue": "name 'raw_input' is not defined",
          "traceback": [
            "\u001b[0;31m---------------------------------------------------------------------------\u001b[0m",
            "\u001b[0;31mNameError\u001b[0m                                 Traceback (most recent call last)",
            "\u001b[0;32m<ipython-input-22-6bdf7d29841e>\u001b[0m in \u001b[0;36m<cell line: 1>\u001b[0;34m()\u001b[0m\n\u001b[0;32m----> 1\u001b[0;31m \u001b[0mg\u001b[0m \u001b[0;34m=\u001b[0m \u001b[0mraw_input\u001b[0m\u001b[0;34m(\u001b[0m\u001b[0;34m\"Enter your name : \"\u001b[0m\u001b[0;34m)\u001b[0m\u001b[0;34m\u001b[0m\u001b[0;34m\u001b[0m\u001b[0m\n\u001b[0m\u001b[1;32m      2\u001b[0m \u001b[0mprint\u001b[0m\u001b[0;34m(\u001b[0m\u001b[0mg\u001b[0m\u001b[0;34m)\u001b[0m\u001b[0;34m\u001b[0m\u001b[0;34m\u001b[0m\u001b[0m\n",
            "\u001b[0;31mNameError\u001b[0m: name 'raw_input' is not defined"
          ]
        }
      ]
    },
    {
      "cell_type": "code",
      "source": [
        "s= \"he\\n is my frnd\"\n",
        "print(s.splitlines(True))\n",
        "print(s.splitlines())\n",
        "print(s)"
      ],
      "metadata": {
        "id": "S2FXxkr4fFH4",
        "colab": {
          "base_uri": "https://localhost:8080/"
        },
        "outputId": "653f5dd8-a8f3-4c41-dab4-e79b9ee6b07e"
      },
      "execution_count": null,
      "outputs": [
        {
          "output_type": "stream",
          "name": "stdout",
          "text": [
            "['he\\n', ' is my frnd']\n",
            "['he', ' is my frnd']\n",
            "he\n",
            " is my frnd\n"
          ]
        }
      ]
    },
    {
      "cell_type": "markdown",
      "source": [
        "operators-1.arithmetic 2.assignment 3.comparsion\n",
        "4.logical 5.bitwise"
      ],
      "metadata": {
        "id": "EXZ_cL5BXEvQ"
      }
    },
    {
      "cell_type": "code",
      "source": [
        "#arimethic - used to do arithmetic operations\n",
        "a=123\n",
        "b=10\n",
        "print(a+b) #add\n",
        "print(a-b) #sub\n",
        "print(a/b) #div\n",
        "print(a//b) #floor(whole num)\n",
        "print(a%b) #reminder\n",
        "print(4**2) #expontiation"
      ],
      "metadata": {
        "colab": {
          "base_uri": "https://localhost:8080/"
        },
        "id": "f4OjJhKwXEai",
        "outputId": "bc388e20-0e96-477d-869d-64fe679a33e3"
      },
      "execution_count": null,
      "outputs": [
        {
          "output_type": "stream",
          "name": "stdout",
          "text": [
            "133\n",
            "113\n",
            "12.3\n",
            "12\n",
            "3\n",
            "16\n"
          ]
        }
      ]
    },
    {
      "cell_type": "code",
      "source": [
        "#assignment- used to store values\n",
        "a=120\n",
        "a +=10\n",
        "print(a)\n",
        "a -=10\n",
        "print(a)\n",
        "#same for all"
      ],
      "metadata": {
        "id": "dR9F5TqZYwyh",
        "colab": {
          "base_uri": "https://localhost:8080/"
        },
        "outputId": "db7430e0-348c-4bd8-a354-701e2fe93c7a"
      },
      "execution_count": null,
      "outputs": [
        {
          "output_type": "stream",
          "name": "stdout",
          "text": [
            "130\n",
            "120\n"
          ]
        }
      ]
    },
    {
      "cell_type": "code",
      "source": [
        "#comparsion operator\n",
        "a=20\n",
        "b=10\n",
        "print(a==b)#equal\n",
        "print(a !=b) #not equal\n",
        "print(a>b) #greater than\n",
        "#a<b a<=b"
      ],
      "metadata": {
        "colab": {
          "base_uri": "https://localhost:8080/"
        },
        "id": "kX9IiH68w6V7",
        "outputId": "00e569c8-32e1-4969-aa8d-f912806811ff"
      },
      "execution_count": null,
      "outputs": [
        {
          "output_type": "stream",
          "name": "stdout",
          "text": [
            "False\n",
            "True\n",
            "True\n"
          ]
        }
      ]
    },
    {
      "cell_type": "code",
      "source": [
        "#logical operators\n",
        "a=35\n",
        "b = a>=15 and a<=30\n",
        "c = a>=15 or a<=30\n",
        "d=(not(a>=15 and a<=30))\n",
        "print(d)\n",
        "if(b==True):\n",
        "  print(b,\"satisfied\")\n",
        "else:\n",
        "  print(c,\"notsatisfied\")\n",
        "\n"
      ],
      "metadata": {
        "colab": {
          "base_uri": "https://localhost:8080/"
        },
        "id": "d_8FaKqLyM3E",
        "outputId": "713ee039-2ef5-4b36-ac18-0be165344559"
      },
      "execution_count": null,
      "outputs": [
        {
          "output_type": "stream",
          "name": "stdout",
          "text": [
            "True\n",
            "True notsatisfied\n"
          ]
        }
      ]
    },
    {
      "cell_type": "code",
      "source": [
        "#bitwise operator zeros and ones\n",
        "a=12\n",
        "b=11\n",
        "print(a&b) #and\n",
        "print(a|b) #or\n",
        "print(a^b)"
      ],
      "metadata": {
        "colab": {
          "base_uri": "https://localhost:8080/"
        },
        "id": "jEV-5hv-7ms2",
        "outputId": "f95d1b1b-e991-45c8-82cb-7190efa75108"
      },
      "execution_count": null,
      "outputs": [
        {
          "output_type": "stream",
          "name": "stdout",
          "text": [
            "8\n",
            "15\n"
          ]
        }
      ]
    },
    {
      "cell_type": "markdown",
      "source": [
        "conditional statement\n",
        "if\n",
        "if else\n",
        "elif\n",
        "nested if"
      ],
      "metadata": {
        "id": "NYtjIyj-ItQ7"
      }
    },
    {
      "cell_type": "code",
      "source": [
        "#1.even or not\n",
        "n=int(input(\"enter a no : \\n\"))\n",
        "if (n % 2==0):\n",
        "  print(n, \"is a even no\")\n",
        "else:\n",
        "  print(n,\"odd no \")"
      ],
      "metadata": {
        "id": "XbWr6BFZ_xcK",
        "colab": {
          "base_uri": "https://localhost:8080/"
        },
        "outputId": "4ee110b7-6bd0-4c83-d769-5c63f3c4f0db"
      },
      "execution_count": null,
      "outputs": [
        {
          "output_type": "stream",
          "name": "stdout",
          "text": [
            "enter a no : \n",
            "13\n",
            "13 odd no \n"
          ]
        }
      ]
    },
    {
      "cell_type": "code",
      "source": [
        "a=int(input(\"enter ur age : \\n\"))\n",
        "n=input(\"enter ur name : \\n\")\n",
        "print(n)\n",
        "if(a>=18):\n",
        "  print(a,\"eli\")\n",
        "else:\n",
        "  print(a,\"not\")\n",
        "\n"
      ],
      "metadata": {
        "colab": {
          "base_uri": "https://localhost:8080/"
        },
        "id": "8jstT91lJ_74",
        "outputId": "7c3efe5d-8fd8-466b-9442-c9f72b996144"
      },
      "execution_count": null,
      "outputs": [
        {
          "output_type": "stream",
          "name": "stdout",
          "text": [
            "enter ur age : \n",
            "8\n",
            "enter ur name : \n",
            "\n",
            "\n",
            "8 not\n"
          ]
        }
      ]
    },
    {
      "cell_type": "code",
      "source": [
        "#elif\n",
        "n=input(\"enter ur name : \")\n",
        "d=int(input(\"enter days : \"))\n",
        "if(d==0):\n",
        "  print(d,n,\"no fine\")\n",
        "elif(d>=1 and d<=5):\n",
        "  print(d,n,\"0.5 fine\")\n",
        "elif(d>=5 and d<=10):\n",
        "  print(d,n,\"1 fine\")\n",
        "elif(d>=10 and d<=30):\n",
        "  print(d,n,\"5 fine\")\n",
        "else:\n",
        "  print(d,n,\"5 membership cancelled\")\n",
        "\n",
        "\n",
        "\n",
        "\n",
        "\n"
      ],
      "metadata": {
        "colab": {
          "base_uri": "https://localhost:8080/"
        },
        "id": "PsRlSP-PKsS2",
        "outputId": "ce626903-b889-41bb-d950-fe5155a3c39b"
      },
      "execution_count": null,
      "outputs": [
        {
          "output_type": "stream",
          "name": "stdout",
          "text": [
            "enter ur name : h\n",
            "enter days : 55\n",
            "55 h 5 membership cancelled\n"
          ]
        }
      ]
    },
    {
      "cell_type": "code",
      "source": [
        "#nested if\n",
        "n=input(\"enter ur name : \")\n",
        "m1=int(input(\"enter mark1 : \"))\n",
        "m2=int(input(\"enter mark2 : \"))\n",
        "m3=int(input(\"enter mark3 : \"))\n",
        "t=m1+m2+m3\n",
        "print(t)\n",
        "a=t/3.0\n",
        "print(a)1\n",
        "\n",
        "if(m1>=35 and m2>=35 and m3>=35):\n",
        "  print(\"pass\")\n",
        "  if(a>=90 and a<=100):\n",
        "    print(\"A\")\n",
        "  elif(a>=80 and a<=89):\n",
        "    print(\"B\")\n",
        "  elif(a>=70 and a<=69):\n",
        "    print(\"c\")\n",
        "  else:\n",
        "    print(\"D\")\n",
        "else:\n",
        "  print(\"fail\")\n",
        "\n"
      ],
      "metadata": {
        "colab": {
          "base_uri": "https://localhost:8080/"
        },
        "id": "XxvWfu_vNj21",
        "outputId": "a65870b5-5bc5-4153-ab15-878bcdc9c86d"
      },
      "execution_count": null,
      "outputs": [
        {
          "output_type": "stream",
          "name": "stdout",
          "text": [
            "enter ur name : h\n",
            "enter mark1 : 100\n",
            "enter mark2 : 100\n",
            "enter mark3 : 100\n",
            "300\n",
            "100.0\n",
            "pass\n",
            "A\n"
          ]
        }
      ]
    },
    {
      "cell_type": "markdown",
      "source": [
        "looping\n",
        "1.while\n",
        "2.for"
      ],
      "metadata": {
        "id": "hFAi0uUPUgxp"
      }
    },
    {
      "cell_type": "code",
      "source": [
        "i=1 #odd\n",
        "while i<=10:\n",
        "  print(i)\n",
        "  i+=2"
      ],
      "metadata": {
        "colab": {
          "base_uri": "https://localhost:8080/"
        },
        "id": "uQTg9utQUf-Z",
        "outputId": "302d4952-ce5b-4f1e-f487-c09dfff3c6aa"
      },
      "execution_count": null,
      "outputs": [
        {
          "output_type": "stream",
          "name": "stdout",
          "text": [
            "1\n",
            "3\n",
            "5\n",
            "7\n",
            "9\n"
          ]
        }
      ]
    },
    {
      "cell_type": "code",
      "source": [
        "print(list(range(0,20,2)))\n",
        "print(list(range(1,20,2)))\n"
      ],
      "metadata": {
        "colab": {
          "base_uri": "https://localhost:8080/"
        },
        "id": "ST2yfP-OpYh8",
        "outputId": "01c41d64-7190-41ad-f05c-5b42a1bacbfc"
      },
      "execution_count": null,
      "outputs": [
        {
          "output_type": "stream",
          "name": "stdout",
          "text": [
            "[0, 2, 4, 6, 8, 10, 12, 14, 16, 18]\n",
            "[1, 3, 5, 7, 9, 11, 13, 15, 17, 19]\n"
          ]
        }
      ]
    },
    {
      "cell_type": "code",
      "source": [
        "#for loop\n",
        "for i in range(0,20,2):\n",
        "  print(i)"
      ],
      "metadata": {
        "colab": {
          "base_uri": "https://localhost:8080/"
        },
        "id": "1pyuXnEYrxnv",
        "outputId": "7ec446b8-90e8-4528-fff1-e273babc883b"
      },
      "execution_count": null,
      "outputs": [
        {
          "output_type": "stream",
          "name": "stdout",
          "text": [
            "0\n",
            "2\n",
            "4\n",
            "6\n",
            "8\n",
            "10\n",
            "12\n",
            "14\n",
            "16\n",
            "18\n"
          ]
        }
      ]
    },
    {
      "cell_type": "code",
      "source": [
        "for i in range(2):\n",
        "  a=int(input(\"enter a no :\"))\n",
        "  b=int(input(\"enter a no :\"))\n",
        "  print(a+b)\n",
        "\n",
        "\n",
        "\n",
        "\n",
        "\n"
      ],
      "metadata": {
        "colab": {
          "base_uri": "https://localhost:8080/"
        },
        "id": "U6gSsZ_lsMMm",
        "outputId": "0639b5b4-49ce-47eb-a19c-94f7eaf6a98b"
      },
      "execution_count": null,
      "outputs": [
        {
          "output_type": "stream",
          "name": "stdout",
          "text": [
            "enter a no :10\n",
            "enter a no :20\n",
            "30\n",
            "enter a no :40\n",
            "enter a no :50\n",
            "90\n"
          ]
        }
      ]
    },
    {
      "cell_type": "code",
      "source": [
        "#nested for loop\n"
      ],
      "metadata": {
        "id": "IUA9ZJz2sVXI"
      },
      "execution_count": null,
      "outputs": []
    },
    {
      "cell_type": "code",
      "source": [
        "#while else & for else\n",
        "i=1\n",
        "while i<=5:\n",
        "  if(i==4):\n",
        "    break\n",
        "  i+=1\n",
        "  print(i)\n",
        "\n",
        "else:\n",
        "  print(\"program terminated\")"
      ],
      "metadata": {
        "colab": {
          "base_uri": "https://localhost:8080/"
        },
        "id": "IwGMElkdwoqC",
        "outputId": "52069e9a-ed33-4cae-e519-5fdb29e01bf2"
      },
      "execution_count": 46,
      "outputs": [
        {
          "output_type": "stream",
          "name": "stdout",
          "text": [
            "2\n",
            "3\n",
            "4\n"
          ]
        }
      ]
    },
    {
      "cell_type": "code",
      "source": [
        " #for else\n",
        "for i in range(1,21):\n",
        "  if(i==5):\n",
        "    break\n",
        "  print(i)\n",
        "else:\n",
        "  print(\"program terminated\")\n",
        "\n",
        "print(\"program terminated\")\n",
        "\n"
      ],
      "metadata": {
        "colab": {
          "base_uri": "https://localhost:8080/"
        },
        "id": "RBa4RVaLxvQy",
        "outputId": "0345cc7c-e437-447c-d4b0-fe8bc0ea57f7"
      },
      "execution_count": 52,
      "outputs": [
        {
          "output_type": "stream",
          "name": "stdout",
          "text": [
            "1\n",
            "2\n",
            "3\n",
            "4\n",
            "program terminated\n"
          ]
        }
      ]
    },
    {
      "cell_type": "markdown",
      "source": [
        "functions\n",
        "1.user def\n",
        "2.built in\n",
        "3.lamda\n",
        "4.recursive"
      ],
      "metadata": {
        "id": "P66OQspm5Er2"
      }
    },
    {
      "cell_type": "code",
      "source": [
        "#1.userdefined\n",
        "#no return no argument\n",
        "def add():\n",
        "  a=int(input(\"enter a\"))\n",
        "  b=int(input(\"enter b\"))\n",
        "  c=a+b\n",
        "  print(c)\n",
        "add()\n"
      ],
      "metadata": {
        "colab": {
          "base_uri": "https://localhost:8080/"
        },
        "id": "pI_YIMKJ0NB1",
        "outputId": "c3d9d808-9b85-4c1c-d415-f9ae49d38cf4"
      },
      "execution_count": 53,
      "outputs": [
        {
          "output_type": "stream",
          "name": "stdout",
          "text": [
            "enter a10\n",
            "enter b20\n",
            "30\n"
          ]
        }
      ]
    },
    {
      "cell_type": "code",
      "source": [
        "#1.userdefined\n",
        "# no return & argument\n",
        "def sub(a,b):\n",
        "\n",
        "  c=a-b\n",
        "  print(c)\n",
        "sub(20,30)"
      ],
      "metadata": {
        "colab": {
          "base_uri": "https://localhost:8080/"
        },
        "id": "VPi-vFul54c6",
        "outputId": "bb44f310-e075-4472-b866-4ce738326f0e"
      },
      "execution_count": 55,
      "outputs": [
        {
          "output_type": "stream",
          "name": "stdout",
          "text": [
            "-10\n"
          ]
        }
      ]
    },
    {
      "cell_type": "code",
      "source": [
        "#1.userdefined\n",
        "#return no argument\n",
        "def add():\n",
        "  a=int(input(\"enter a\"))\n",
        "  b=int(input(\"enter b\"))\n",
        "  c=a+b\n",
        "  return c\n",
        "add()\n"
      ],
      "metadata": {
        "colab": {
          "base_uri": "https://localhost:8080/"
        },
        "id": "eJXbMe6j6Zsr",
        "outputId": "032f1992-7ab3-4b81-b9e5-c34f3218446f"
      },
      "execution_count": 61,
      "outputs": [
        {
          "name": "stdout",
          "output_type": "stream",
          "text": [
            "enter a20\n",
            "enter b20\n"
          ]
        },
        {
          "output_type": "execute_result",
          "data": {
            "text/plain": [
              "40"
            ]
          },
          "metadata": {},
          "execution_count": 61
        }
      ]
    },
    {
      "cell_type": "code",
      "source": [
        "#1.userdefined\n",
        "# no return & argument\n",
        "def sub(a,b):\n",
        "\n",
        "  c=a-b\n",
        "  return c\n",
        "sub(20,30)"
      ],
      "metadata": {
        "colab": {
          "base_uri": "https://localhost:8080/"
        },
        "id": "Q2GmZV5w7ayT",
        "outputId": "b33a5384-c95e-414a-bc17-b4842c434e38"
      },
      "execution_count": 62,
      "outputs": [
        {
          "output_type": "execute_result",
          "data": {
            "text/plain": [
              "-10"
            ]
          },
          "metadata": {},
          "execution_count": 62
        }
      ]
    },
    {
      "cell_type": "code",
      "source": [],
      "metadata": {
        "id": "HggENlbN7qoq"
      },
      "execution_count": null,
      "outputs": []
    }
  ]
}